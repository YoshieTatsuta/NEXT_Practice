{
  "nbformat": 4,
  "nbformat_minor": 0,
  "metadata": {
    "colab": {
      "name": "Untitled0.ipynb",
      "provenance": [],
      "collapsed_sections": [],
      "authorship_tag": "ABX9TyMRbpNkOeqHN6yOMYFRULpq",
      "include_colab_link": true
    },
    "kernelspec": {
      "name": "python3",
      "display_name": "Python 3"
    }
  },
  "cells": [
    {
      "cell_type": "markdown",
      "metadata": {
        "id": "view-in-github",
        "colab_type": "text"
      },
      "source": [
        "<a href=\"https://colab.research.google.com/github/YoshieTatsuta/NEXT_Practice/blob/master/Untitled0.ipynb\" target=\"_parent\"><img src=\"https://colab.research.google.com/assets/colab-badge.svg\" alt=\"Open In Colab\"/></a>"
      ]
    },
    {
      "cell_type": "code",
      "metadata": {
        "id": "DyJZDjuUvvt1",
        "colab_type": "code",
        "colab": {}
      },
      "source": [
        "import pandas as pd\n",
        "import os\n",
        "\n",
        "#os.chdir(\"C:\\Users\\PC-0043\\Desktop\\ytatsuta\\\")\n",
        "\n",
        "#東京の週間天気のURL\n",
        "url =\"https://www.jma.go.jp/jp/week/319.html\"\n",
        "\n",
        "dfs = pd.read_html(url)\n",
        "\n"
      ],
      "execution_count": 22,
      "outputs": []
    },
    {
      "cell_type": "code",
      "metadata": {
        "id": "GXIEIlkTzM-s",
        "colab_type": "code",
        "colab": {
          "base_uri": "https://localhost:8080/",
          "height": 153
        },
        "outputId": "2bcb247f-4a68-48b2-97b0-fea60fbf2ad6"
      },
      "source": [
        "#データの加工\n",
        "df = dfs[4]\n",
        "#最初の5行だけ抽出\n",
        "df = df[:5]\n",
        "#2行目、3行目削除\n",
        "#df2 = df[:5].drop([1,2])\n",
        "#　T　行と列を入れ替え\n",
        "df = df[:5].drop([1,2]).T.reset_index()\n",
        "#df2 = df.drop([0,1]).reset_index()\n",
        "df = df.drop([0,1]).reset_index(drop = True)\n",
        "\n",
        "df.columns = ['日付','天気','最高気温','最低気温']\n",
        "\n",
        "df['最高気温'] = [x.split('  (')[0] if ('(' in x) == True else x for x in df['最高気温']]\n",
        "df['最低気温'] = [x.split('  (')[0] if ('(' in x) == True else x for x in df['最低気温']]\n",
        "\n",
        "#print(dfs[4].head())\n",
        "\n",
        "print(df)\n",
        "#print(df2)\n"
      ],
      "execution_count": 59,
      "outputs": [
        {
          "output_type": "stream",
          "text": [
            "   日付    天気 最高気温 最低気温\n",
            "0  1水  雨のち曇   26   23\n",
            "1  2木  曇時々晴   31   24\n",
            "2  3金  曇一時雨   28   21\n",
            "3  4土  曇一時雨   25   20\n",
            "4  5日  曇一時雨   28   21\n",
            "5  6月     曇   31   23\n",
            "6  7火     曇   32   24\n"
          ],
          "name": "stdout"
        }
      ]
    }
  ]
}